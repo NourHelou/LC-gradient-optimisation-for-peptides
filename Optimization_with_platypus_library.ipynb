{
  "cells": [
    {
      "cell_type": "code",
      "execution_count": 1,
      "metadata": {
        "colab": {
          "base_uri": "https://localhost:8080/"
        },
        "id": "FTx8sQcCi7Fl",
        "outputId": "06f0459a-2903-4d8b-a5ad-490bcafd9bc2"
      },
      "outputs": [
        {
          "name": "stdout",
          "output_type": "stream",
          "text": [
            "             seq         tr modifications  uncal_preds     perc_b  project\n",
            "0       STMKPVQK   8.511226        O (M3)     3.596018   9.402841        1\n",
            "1        KLEDGPK   9.854111           NaN     3.664103   9.777621        1\n",
            "3  EYHPDKNPNAGDK  11.155799           NaN     3.725743  10.116925        1\n",
            "2  AAGHPGDPESQQR  10.687922           NaN     3.726865  10.123104        1\n",
            "7  HVAVTNMNEHSSR  11.373624        O (M7)     3.772557  10.374620        1\n"
          ]
        }
      ],
      "source": [
        "import numpy as np\n",
        "import pandas as pd\n",
        "import matplotlib.pyplot as plt\n",
        "#Loading the data which is the output of DeepLC gradient predict\n",
        "filename = 'predicted_acn_court.csv'\n",
        "df = pd.read_csv(filename)\n",
        "\n",
        "df = df.sort_values(by='perc_b') # sorted by increasing perc_b\n",
        "print(df.head())\n",
        "\n",
        "\n",
        "# here we filter the DataFrame to select peptides having specific %ACN in order to better seperate them ( in a case where certain peptides interest us)\n",
        "#let's say peptides between 20 and 22% are interesting to us and we want to better seperate them\n",
        "df_filtered = df[(df['perc_b'] >= 20) & (df['perc_b'] <= 25)]\n",
        "\n",
        "\n",
        "perc_b_between_20_and_22 = df_filtered['perc_b']\n",
        "a= perc_b_between_20_and_22.index[0]\n",
        "b=perc_b_between_20_and_22.index[-1]\n",
        "# in a and b we stored the indexes of the peptides that interest us\n",
        "\n"
      ]
    },
    {
      "cell_type": "markdown",
      "metadata": {
        "id": "pbut2kQVkTKA"
      },
      "source": [
        "Multi-objective optimization helps in finding a set of Pareto-optimal solutions, where no objective can be improved without worsening at least one other objective. This means achieving a balance between overall RT distribution quality and specific performance within the critical range."
      ]
    },
    {
      "cell_type": "markdown",
      "metadata": {
        "id": "Op87Bt86_PON"
      },
      "source": [
        "## For desired spacing = 0.05"
      ]
    },
    {
      "cell_type": "code",
      "execution_count": 2,
      "metadata": {
        "colab": {
          "base_uri": "https://localhost:8080/",
          "height": 508
        },
        "id": "DbnED9Eu_VLg",
        "outputId": "3fa866f8-02b2-4561-c269-7889cb8799d8"
      },
      "outputs": [
        {
          "name": "stdout",
          "output_type": "stream",
          "text": [
            "Requirement already satisfied: platypus-opt in c:\\users\\nour-\\anaconda3\\lib\\site-packages (1.2.0)\n",
            "Requirement already satisfied: numpy in c:\\users\\nour-\\anaconda3\\lib\\site-packages (from platypus-opt) (1.24.3)\n"
          ]
        }
      ],
      "source": [
        "!pip install platypus-opt\n",
        "import numpy as np\n",
        "from platypus import Problem, Real\n",
        "\n",
        "class RTProblem(Problem):\n",
        "    def __init__(self, dim):\n",
        "        super(RTProblem, self).__init__(dim, 2)  # dim variables, 2 objectives\n",
        "        self.types[:] = [Real(6, 50) for _ in range(dim)]  # Bound each variable between 6 and 50 (min)\n",
        "\n",
        "    def evaluate(self, solution):\n",
        "        rts = np.sort(solution.variables) # the fitness evaluation will sorts rts in increasing order to optimize (in order to floow the logic of increasing time)\n",
        "        diffs = np.diff(rts)\n",
        "\n",
        "        # Objective 1:  the sum of differences\n",
        "        sum_of_differences =np.sum(diffs)\n",
        "\n",
        "        # Objective 2: Optimize the spacing between a and b ( peptides in which we are interested)\n",
        "        selected_rts = rts[a:b] # optimizing between a and b\n",
        "        desired_spacing_min = 0.05\n",
        "        desired_spacing_max = 5\n",
        "        optimal_spacing_score = -sum(1 for diff in np.diff(selected_rts) if desired_spacing_min <= diff <= desired_spacing_max)\n",
        "\n",
        "        solution.objectives[:] = [sum_of_differences, optimal_spacing_score]\n",
        "from platypus import NSGAII\n",
        "\n",
        "dim = len(df['perc_b'])\n",
        "problem = RTProblem(dim)\n",
        "\n",
        "algorithm = NSGAII(problem, population_size=1000)\n",
        "\n",
        "generations = 100000\n",
        "algorithm.run(generations)\n",
        "\n",
        "\n",
        "import matplotlib.pyplot as plt\n",
        "\n",
        "\n",
        "objectives = np.array([s.objectives[:] for s in algorithm.result])\n",
        "\n",
        "\n"
      ]
    },
    {
      "cell_type": "code",
      "execution_count": null,
      "metadata": {},
      "outputs": [
        {
          "ename": "",
          "evalue": "",
          "output_type": "error",
          "traceback": [
            "\u001b[1;31mRunning cells with 'pygmo_env' requires the ipykernel package.\n",
            "\u001b[1;31mRun the following command to install 'ipykernel' into the Python environment. \n",
            "\u001b[1;31mCommand: 'conda install -n pygmo_env ipykernel --update-deps --force-reinstall'"
          ]
        }
      ],
      "source": [
        "plt.figure(figsize=(8, 8))\n",
        "plt.scatter(objectives[:, 0], objectives[:, 1])\n",
        "plt.xlabel('Objective 1: Global separation', fontsize=24)\n",
        "plt.ylabel('Objective 2: Specific separation', fontsize=24)\n",
        "plt.title('Pareto-optimal Front', fontsize=24)\n",
        "plt.tick_params(axis='x', labelsize=20)  \n",
        "plt.tick_params(axis='y', labelsize=20) \n",
        "\n",
        "plt.legend(fontsize=20)\n",
        "plt.show()\n",
        "\n"
      ]
    },
    {
      "cell_type": "markdown",
      "metadata": {
        "id": "ZXTpvA8b89xB"
      },
      "source": [
        "The shape of the Pareto front in optimization problem, convex or concave, changing with the desired minimum spacing (`desired_spacing_min`), can be attributed to the relationship between the objectives and the constraints imposed by the spacing between elements.\n",
        "\n",
        "1. With Desired Spacing Min = 0.05: When the minimum desired spacing is smaller (0.05), the constraints on the solutions are less strict. This allows for a broader range of feasible solutions that can achieve a closer spacing without significantly impacting the sum of differences objective. The optimization can more easily adjust the spacing between the retention times (rts) to minimize both objectives, leading to a Pareto front that appears convex. In a convex Pareto front, improving one objective can still allow for reasonable values of the other objective without extreme trade-offs.\n",
        "\n",
        "2. With Desired Spacing Min = 0.1: Increasing the minimum desired spacing to 0.1 imposes a stricter constraint on the feasible solutions. The solutions must now maintain a larger gap between the retention times, which can lead to increased difficulty in minimizing the sum of differences without adversely affecting the spacing objective. This stricter constraint makes it harder to find solutions that optimize both objectives simultaneously, leading to a concave Pareto front. In a concave front, the trade-offs between improving one objective and worsening the other become more pronounced, indicating that the objectives are in stronger conflict under the given constraints.\n",
        "\n"
      ]
    },
    {
      "cell_type": "markdown",
      "metadata": {},
      "source": [
        "## Plotting the desired optimal gradient"
      ]
    },
    {
      "cell_type": "code",
      "execution_count": null,
      "metadata": {
        "colab": {
          "base_uri": "https://localhost:8080/"
        },
        "id": "6w8B63gOYXBs",
        "outputId": "14d24750-d15d-4d6b-fdd9-87ffc4e2a621"
      },
      "outputs": [
        {
          "ename": "",
          "evalue": "",
          "output_type": "error",
          "traceback": [
            "\u001b[1;31mRunning cells with 'pygmo_env' requires the ipykernel package.\n",
            "\u001b[1;31mRun the following command to install 'ipykernel' into the Python environment. \n",
            "\u001b[1;31mCommand: 'conda install -n pygmo_env ipykernel --update-deps --force-reinstall'"
          ]
        }
      ],
      "source": [
        "\n",
        "pareto_front = objectives\n",
        "#  sorts the front by the first objective (sum of differences)\n",
        "pareto_front_sorted = pareto_front[pareto_front[:, 0].argsort()]\n",
        "\n",
        "print(pareto_front_sorted)\n"
      ]
    },
    {
      "cell_type": "markdown",
      "metadata": {},
      "source": [
        "we will plot the solution which has the fitness of 43.98575606 for objective 1 and -137 for objective 2  "
      ]
    },
    {
      "cell_type": "code",
      "execution_count": null,
      "metadata": {
        "colab": {
          "base_uri": "https://localhost:8080/",
          "height": 472
        },
        "id": "c-EwJMqJonQD",
        "outputId": "2724986a-db4a-4ea3-c5f8-7a19ebbbe692"
      },
      "outputs": [
        {
          "ename": "",
          "evalue": "",
          "output_type": "error",
          "traceback": [
            "\u001b[1;31mRunning cells with 'pygmo_env' requires the ipykernel package.\n",
            "\u001b[1;31mRun the following command to install 'ipykernel' into the Python environment. \n",
            "\u001b[1;31mCommand: 'conda install -n pygmo_env ipykernel --update-deps --force-reinstall'"
          ]
        }
      ],
      "source": [
        "\n",
        "# smallest difference in Objective 1 that still has a relatively high Objective 2\n",
        "gradient = pareto_front_sorted[-1]  # starting from the last point which has the highest Objective 2 value\n",
        "\n",
        "\n",
        "knee_solution_variables = algorithm.result[np.where(np.all(objectives ==gradient, axis=1))[0][0]].variables\n",
        "\n",
        "\n",
        "df_sorted_by_perc_b = df.sort_values(by='perc_b').reset_index(drop=True)\n",
        "perc_b_values = df_sorted_by_perc_b['perc_b'].values\n",
        "\n",
        "\n",
        "knee_solution_variables = np.sort(knee_solution_variables)\n",
        "\n",
        "\n",
        "\n"
      ]
    },
    {
      "cell_type": "code",
      "execution_count": null,
      "metadata": {},
      "outputs": [
        {
          "ename": "",
          "evalue": "",
          "output_type": "error",
          "traceback": [
            "\u001b[1;31mRunning cells with 'pygmo_env' requires the ipykernel package.\n",
            "\u001b[1;31mRun the following command to install 'ipykernel' into the Python environment. \n",
            "\u001b[1;31mCommand: 'conda install -n pygmo_env ipykernel --update-deps --force-reinstall'"
          ]
        }
      ],
      "source": [
        "plt.figure(figsize=(8, 8))\n",
        "plt.scatter(knee_solution_variables, perc_b_values[:len(knee_solution_variables)], label=\"Optimized gradient\")\n",
        "plt.xlabel('Optimal Retention Times',fontsize=24)\n",
        "plt.ylabel('%ACN',fontsize=24)\n",
        "plt.title('Retention Time vs %ACN for optimal gradient',fontsize=24)\n",
        "plt.tick_params(axis='x', labelsize=20) \n",
        "plt.tick_params(axis='y', labelsize=20) \n",
        "\n",
        "plt.legend(fontsize=20)\n",
        "plt.show()\n"
      ]
    }
  ],
  "metadata": {
    "colab": {
      "provenance": []
    },
    "kernelspec": {
      "display_name": "Python 3",
      "name": "python3"
    },
    "language_info": {
      "codemirror_mode": {
        "name": "ipython",
        "version": 3
      },
      "file_extension": ".py",
      "mimetype": "text/x-python",
      "name": "python",
      "nbconvert_exporter": "python",
      "pygments_lexer": "ipython3",
      "version": "3.11.5"
    }
  },
  "nbformat": 4,
  "nbformat_minor": 0
}
